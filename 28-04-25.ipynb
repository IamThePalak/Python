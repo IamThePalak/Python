{
 "cells": [
  {
   "cell_type": "markdown",
   "id": "f00e9637-ec0c-4c06-b0da-c67c38091014",
   "metadata": {},
   "source": [
    "# Basic Python"
   ]
  },
  {
   "cell_type": "markdown",
   "id": "a114d408-6d49-4a55-a432-ac51378ac4be",
   "metadata": {},
   "source": [
    "to print print(\"....\")                \n",
    "to print exactly same we use triple quotations(\"\"\".....\"\"\")                 \n",
    "to print next line we use \\n"
   ]
  },
  {
   "cell_type": "code",
   "execution_count": 3,
   "id": "e5172c21-d87e-480a-a1f0-a957dfafa310",
   "metadata": {},
   "outputs": [
    {
     "name": "stdout",
     "output_type": "stream",
     "text": [
      "hello\n"
     ]
    }
   ],
   "source": [
    "print(\"hello\")"
   ]
  },
  {
   "cell_type": "code",
   "execution_count": 5,
   "id": "172093ed-6174-465e-a4a9-9d2cfcbd6741",
   "metadata": {},
   "outputs": [
    {
     "name": "stdout",
     "output_type": "stream",
     "text": [
      "hii\n",
      "I am Palak\n"
     ]
    }
   ],
   "source": [
    "print(\"\"\"hii\n",
    "I am Palak\"\"\")"
   ]
  },
  {
   "cell_type": "code",
   "execution_count": 9,
   "id": "c4da5973-1364-452b-a0f4-2ef58947dafb",
   "metadata": {},
   "outputs": [
    {
     "name": "stdout",
     "output_type": "stream",
     "text": [
      "hi\n",
      "Palak\n"
     ]
    }
   ],
   "source": [
    "print(\"hi\\nPalak\")"
   ]
  },
  {
   "cell_type": "markdown",
   "id": "e802544a-c6f2-46d6-a393-5e4d9981bb26",
   "metadata": {},
   "source": [
    "for comments we use # this symbol"
   ]
  },
  {
   "cell_type": "code",
   "execution_count": 20,
   "id": "e0e12d90-a419-4543-b89c-54044e3cc7d8",
   "metadata": {},
   "outputs": [],
   "source": [
    "#HIII"
   ]
  },
  {
   "cell_type": "markdown",
   "id": "9b8d2d97-4eef-4b7f-86b6-b0bcfde98fd5",
   "metadata": {},
   "source": [
    "for multiline comments we use \"\"\" .......\"\"\"\""
   ]
  },
  {
   "cell_type": "code",
   "execution_count": 24,
   "id": "6484bb35-7acc-4fc0-99b1-0eae231cbf55",
   "metadata": {},
   "outputs": [
    {
     "data": {
      "text/plain": [
       "'hiii\\ni am palak'"
      ]
     },
     "execution_count": 24,
     "metadata": {},
     "output_type": "execute_result"
    }
   ],
   "source": [
    "\"\"\"hiii\n",
    "i am palak\"\"\""
   ]
  },
  {
   "cell_type": "markdown",
   "id": "69108f61-ee99-4a9b-b4c9-b9ec2d26b3ae",
   "metadata": {},
   "source": [
    "variable name should not have space between them they can have underscores"
   ]
  },
  {
   "cell_type": "code",
   "execution_count": 27,
   "id": "292ee759-b94c-468e-9594-7c3bbfb99aaa",
   "metadata": {},
   "outputs": [
    {
     "name": "stdin",
     "output_type": "stream",
     "text": [
      "enter ram's age 23\n"
     ]
    }
   ],
   "source": [
    "Age_Ram = int(input(\"enter ram's age\"))"
   ]
  },
  {
   "cell_type": "code",
   "execution_count": 29,
   "id": "68b0dd8a-a3ba-4953-97e0-eb7547ed49d6",
   "metadata": {},
   "outputs": [
    {
     "name": "stdout",
     "output_type": "stream",
     "text": [
      "23\n"
     ]
    }
   ],
   "source": [
    "print(Age_Ram)"
   ]
  },
  {
   "cell_type": "code",
   "execution_count": 31,
   "id": "640c1b98-8437-4d81-9d86-fc9c58d968ce",
   "metadata": {},
   "outputs": [
    {
     "name": "stdout",
     "output_type": "stream",
     "text": [
      "<class 'int'>\n"
     ]
    }
   ],
   "source": [
    "print(type(Age_Ram))"
   ]
  },
  {
   "cell_type": "markdown",
   "id": "342484df-80d5-4a59-87f4-d525b5c94383",
   "metadata": {},
   "source": [
    "Program 1: Write a program to display a person's age , name and address in 3 different lines   \n",
    "name=\"John\"   \n",
    "age = 23   \n",
    "address=\"Kurukshetra\"   "
   ]
  },
  {
   "cell_type": "code",
   "execution_count": 41,
   "id": "395aba10-2e97-4fe1-8b1f-aecb2b364e35",
   "metadata": {},
   "outputs": [],
   "source": [
    "name=\"John\"\n",
    "age = 23\n",
    "address=\"Kurukshetra\""
   ]
  },
  {
   "cell_type": "code",
   "execution_count": 43,
   "id": "018f4ab6-869f-4b0d-86f8-3f10ceaa5230",
   "metadata": {},
   "outputs": [
    {
     "name": "stdout",
     "output_type": "stream",
     "text": [
      "John\n",
      "23\n",
      "Kurukshetra\n"
     ]
    }
   ],
   "source": [
    "print(name)\n",
    "print(age)\n",
    "print(address)"
   ]
  },
  {
   "cell_type": "markdown",
   "id": "bb77caae-9ae8-4fc2-abfa-c35a29dcbca5",
   "metadata": {},
   "source": [
    "Program 2 : Write a program to swap 2 variables"
   ]
  },
  {
   "cell_type": "code",
   "execution_count": 50,
   "id": "b90f9ad7-4637-4bbd-830b-c4aacec44d6e",
   "metadata": {},
   "outputs": [],
   "source": [
    "x = 12 \n",
    "y = 13 "
   ]
  },
  {
   "cell_type": "code",
   "execution_count": 52,
   "id": "df7fc5be-bb49-409b-a6c3-f9d2fde9575e",
   "metadata": {},
   "outputs": [
    {
     "name": "stdout",
     "output_type": "stream",
     "text": [
      "13\n",
      "12\n"
     ]
    }
   ],
   "source": [
    "temp = x\n",
    "x = y \n",
    "y = temp\n",
    "print(x)\n",
    "print(y)"
   ]
  },
  {
   "cell_type": "markdown",
   "id": "f05ff3e4-ca44-40ab-ba4d-d64aa186d8f9",
   "metadata": {},
   "source": [
    "Program 3 : Write a program to convert float into integer "
   ]
  },
  {
   "cell_type": "code",
   "execution_count": 57,
   "id": "d03232c4-8c9a-4a4a-84dd-3ac3ca33aef0",
   "metadata": {},
   "outputs": [
    {
     "name": "stdout",
     "output_type": "stream",
     "text": [
      "3\n"
     ]
    }
   ],
   "source": [
    "x = 3.14 \n",
    "print(int(x))"
   ]
  },
  {
   "cell_type": "markdown",
   "id": "b325d361-d5a4-40bd-ba9f-270c6235b4ef",
   "metadata": {},
   "source": [
    "Program 4 : Take input from student for ID Card and print it in different lines"
   ]
  },
  {
   "cell_type": "code",
   "execution_count": 64,
   "id": "8eb53c6d-25fd-4666-8e91-4b264005a9f7",
   "metadata": {},
   "outputs": [
    {
     "name": "stdin",
     "output_type": "stream",
     "text": [
      "Enter Student's name Palak\n",
      "enter student's age 20\n"
     ]
    },
    {
     "name": "stdout",
     "output_type": "stream",
     "text": [
      "Palak\n",
      "20\n"
     ]
    }
   ],
   "source": [
    "student_name = input(\"Enter Student's name\")\n",
    "student_age = int(input(\"enter student's age\"))\n",
    "print(student_name)\n",
    "print(student_age)"
   ]
  }
 ],
 "metadata": {
  "kernelspec": {
   "display_name": "Python [conda env:base] *",
   "language": "python",
   "name": "conda-base-py"
  },
  "language_info": {
   "codemirror_mode": {
    "name": "ipython",
    "version": 3
   },
   "file_extension": ".py",
   "mimetype": "text/x-python",
   "name": "python",
   "nbconvert_exporter": "python",
   "pygments_lexer": "ipython3",
   "version": "3.12.7"
  }
 },
 "nbformat": 4,
 "nbformat_minor": 5
}
