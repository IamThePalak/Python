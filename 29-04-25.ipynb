{
 "cells": [
  {
   "cell_type": "markdown",
   "id": "b2b38084-6e66-445b-99d0-f7d644656e37",
   "metadata": {},
   "source": [
    "# Operators and Operand "
   ]
  },
  {
   "cell_type": "markdown",
   "id": "87f63320-c200-464c-908e-2131d07cca8b",
   "metadata": {},
   "source": [
    "Operators indicate what action to be performed     \n",
    "Operands tells on which operation is to be performed"
   ]
  },
  {
   "cell_type": "markdown",
   "id": "e00dc811-6366-4da4-8731-0b0f480df077",
   "metadata": {},
   "source": [
    "**Types of Operators**"
   ]
  },
  {
   "cell_type": "markdown",
   "id": "0636e7a6-7275-492f-82bc-75346978b983",
   "metadata": {},
   "source": [
    "1.Arithmetic    2.Comparison    3.Logical    4.Assignment    5.Identity    6.Membership    7.Bitwise"
   ]
  },
  {
   "cell_type": "markdown",
   "id": "091fee2a-f875-4076-8b81-85feb5f906ef",
   "metadata": {},
   "source": [
    "**Arithmetic operator**"
   ]
  },
  {
   "cell_type": "code",
   "execution_count": 15,
   "id": "8c14faa7-b3dd-49f2-86ed-11a4496ebfe1",
   "metadata": {},
   "outputs": [
    {
     "name": "stdout",
     "output_type": "stream",
     "text": [
      "6\n",
      "-2\n",
      "8\n",
      "0.5\n",
      "16\n",
      "0\n",
      "2\n"
     ]
    }
   ],
   "source": [
    "print(2+4)\n",
    "print(2-4)\n",
    "print(2*4)\n",
    "print(2/4)\n",
    "print(2**4)  #Exponential 2 to the power 4\n",
    "print(2//4)  #Floor divison and it gives quotient\n",
    "print(2%4)   #Modulus and it gives reminder as its result"
   ]
  },
  {
   "cell_type": "markdown",
   "id": "b0b441a0-e986-4b20-9b97-bf34e750202a",
   "metadata": {},
   "source": [
    "**Comparison Operator**"
   ]
  },
  {
   "cell_type": "code",
   "execution_count": 20,
   "id": "4413308c-3404-45ea-8edf-bbd938e9d723",
   "metadata": {},
   "outputs": [
    {
     "name": "stdout",
     "output_type": "stream",
     "text": [
      "True\n",
      "False\n",
      "False\n",
      "False\n",
      "True\n",
      "True\n"
     ]
    }
   ],
   "source": [
    "print(2<4)\n",
    "print(2>4)\n",
    "print(2==4)\n",
    "print(2>=4)\n",
    "print(2<=4)\n",
    "print(2!=4)"
   ]
  },
  {
   "cell_type": "markdown",
   "id": "7ed5e6b7-76ff-4d4d-8ec1-eb4320c3412b",
   "metadata": {},
   "source": [
    "**Logical Operators**"
   ]
  },
  {
   "cell_type": "code",
   "execution_count": 25,
   "id": "823750da-ebda-478f-9ac6-4ade0841e27f",
   "metadata": {},
   "outputs": [
    {
     "name": "stdout",
     "output_type": "stream",
     "text": [
      "False\n",
      "True\n",
      "False\n"
     ]
    }
   ],
   "source": [
    "print((2>3)and(2<3))  # True only if both are true\n",
    "print((2>3)or(2<3))   # True if any one is true\n",
    "print(not((2>3))    # TRue if output is false"
   ]
  },
  {
   "cell_type": "markdown",
   "id": "c735ec5b-1d31-4916-8595-af8b85a18f06",
   "metadata": {},
   "source": [
    "**Assignment Operators**"
   ]
  },
  {
   "cell_type": "markdown",
   "id": "f8ce8f2a-8700-43c1-a308-02d0e849891f",
   "metadata": {},
   "source": [
    "score = score + 2    \n",
    "score + = 2   \n",
    "similarly for other operators"
   ]
  },
  {
   "cell_type": "markdown",
   "id": "87f7e810-a22a-439b-bcb2-5b1bf4e1a666",
   "metadata": {},
   "source": [
    "**Identity Operator**"
   ]
  },
  {
   "cell_type": "markdown",
   "id": "fd08963d-29b5-4d05-9b51-d05191bd7733",
   "metadata": {},
   "source": [
    "used to compare items to see if they are same object with same memory address "
   ]
  },
  {
   "cell_type": "code",
   "execution_count": 50,
   "id": "d4ac914e-b954-44bc-a060-2b325d4ae910",
   "metadata": {},
   "outputs": [
    {
     "name": "stdout",
     "output_type": "stream",
     "text": [
      "False\n",
      "True\n"
     ]
    }
   ],
   "source": [
    "a = 1234 \n",
    "b = \"1234\"\n",
    "print(a is b)\n",
    "print(a is not b)"
   ]
  },
  {
   "cell_type": "markdown",
   "id": "e757ccda-4f9a-4a60-8af5-3495a0cb5640",
   "metadata": {},
   "source": [
    "**Bitwise Operator**"
   ]
  },
  {
   "cell_type": "markdown",
   "id": "9620e804-7ef6-44ab-abd2-9ee2205d6a84",
   "metadata": {},
   "source": [
    "AND(&)"
   ]
  },
  {
   "cell_type": "code",
   "execution_count": 67,
   "id": "a69afd91-e806-4f27-83f2-31e1f843bd9b",
   "metadata": {},
   "outputs": [
    {
     "name": "stdout",
     "output_type": "stream",
     "text": [
      "8\n"
     ]
    }
   ],
   "source": [
    "print(10 & 8)"
   ]
  },
  {
   "cell_type": "markdown",
   "id": "1983275e-9385-4883-aa3c-1944a1f39e18",
   "metadata": {},
   "source": [
    "OR(|)"
   ]
  },
  {
   "cell_type": "code",
   "execution_count": 70,
   "id": "bdd35114-d1a7-44e1-9cc5-51fbc2822552",
   "metadata": {},
   "outputs": [
    {
     "name": "stdout",
     "output_type": "stream",
     "text": [
      "10\n"
     ]
    }
   ],
   "source": [
    "print(10|8)"
   ]
  },
  {
   "cell_type": "markdown",
   "id": "a9927b83-0a7a-43f6-84a0-71b56ca2b6f9",
   "metadata": {},
   "source": [
    "XOR(^)"
   ]
  },
  {
   "cell_type": "code",
   "execution_count": 75,
   "id": "3ef9a6c2-340e-469a-a249-a17290670d9d",
   "metadata": {},
   "outputs": [
    {
     "name": "stdout",
     "output_type": "stream",
     "text": [
      "2\n"
     ]
    }
   ],
   "source": [
    "print(10^8)"
   ]
  },
  {
   "cell_type": "code",
   "execution_count": 77,
   "id": "d9e6090e-c69b-4687-99f2-cb484694e9c3",
   "metadata": {},
   "outputs": [
    {
     "name": "stdout",
     "output_type": "stream",
     "text": [
      "0b1010\n"
     ]
    }
   ],
   "source": [
    "print(bin(10))"
   ]
  },
  {
   "cell_type": "code",
   "execution_count": null,
   "id": "ecf58bc5-4da9-4c63-900c-21155f6f246a",
   "metadata": {},
   "outputs": [],
   "source": []
  }
 ],
 "metadata": {
  "kernelspec": {
   "display_name": "Python [conda env:base] *",
   "language": "python",
   "name": "conda-base-py"
  },
  "language_info": {
   "codemirror_mode": {
    "name": "ipython",
    "version": 3
   },
   "file_extension": ".py",
   "mimetype": "text/x-python",
   "name": "python",
   "nbconvert_exporter": "python",
   "pygments_lexer": "ipython3",
   "version": "3.12.7"
  }
 },
 "nbformat": 4,
 "nbformat_minor": 5
}
