{
 "cells": [
  {
   "cell_type": "markdown",
   "id": "81ef7420-f701-4023-a048-cd9dfe77ecfd",
   "metadata": {},
   "source": [
    "# Conditional Statements"
   ]
  },
  {
   "cell_type": "markdown",
   "id": "4bcf6297-8d57-49d3-8119-0f21ba4a5432",
   "metadata": {},
   "source": [
    "**If Statement**"
   ]
  },
  {
   "cell_type": "code",
   "execution_count": 3,
   "id": "f1a08dd4-d750-4f22-902c-a6fe5256e032",
   "metadata": {},
   "outputs": [
    {
     "name": "stdout",
     "output_type": "stream",
     "text": [
      "Grade A\n"
     ]
    }
   ],
   "source": [
    "marks = 87\n",
    "if(marks>81):\n",
    "    print(\"Grade A\")"
   ]
  },
  {
   "cell_type": "markdown",
   "id": "cffe6228-ea88-46d0-a7f5-02b785ab68af",
   "metadata": {},
   "source": [
    "**if - else statement**"
   ]
  },
  {
   "cell_type": "code",
   "execution_count": 7,
   "id": "4364d934-b782-4ebe-8d98-14b55b3f81f0",
   "metadata": {},
   "outputs": [
    {
     "name": "stdout",
     "output_type": "stream",
     "text": [
      "you will not get any phone for one week\n"
     ]
    }
   ],
   "source": [
    "marks = 83\n",
    "if(marks > 90):\n",
    "    print(\"Good Marks\")\n",
    "else:\n",
    "    print(\"you will not get any phone for one week\")"
   ]
  },
  {
   "cell_type": "markdown",
   "id": "fc06d53e-5538-495f-80f5-d20fac792014",
   "metadata": {},
   "source": [
    "**If - elif - else Statement**"
   ]
  },
  {
   "cell_type": "code",
   "execution_count": 10,
   "id": "829f0bd3-b9b1-49eb-a757-7e1f6d4cb291",
   "metadata": {},
   "outputs": [
    {
     "name": "stdout",
     "output_type": "stream",
     "text": [
      "Grade B\n"
     ]
    }
   ],
   "source": [
    "marks = 80\n",
    "if(marks>=90):\n",
    "    print(\"Grade A\")\n",
    "elif(marks>=80):\n",
    "    print(\"Grade B\")\n",
    "else:\n",
    "    print(\"Grade C\")"
   ]
  },
  {
   "cell_type": "markdown",
   "id": "70140908-7abb-4778-be66-d3d4d7d48f49",
   "metadata": {},
   "source": [
    "**Nested If-else Statement**"
   ]
  },
  {
   "cell_type": "code",
   "execution_count": 15,
   "id": "b2abf9fc-8435-4e62-b46a-9d697142adc5",
   "metadata": {},
   "outputs": [
    {
     "name": "stdout",
     "output_type": "stream",
     "text": [
      "Good\n"
     ]
    }
   ],
   "source": [
    "marks = 80 \n",
    "if (marks>=50):\n",
    "    if(marks>=70):\n",
    "        if(marks>=80):\n",
    "            print(\"Good\")\n",
    "else:\n",
    "    print(\"Bad\")"
   ]
  },
  {
   "cell_type": "markdown",
   "id": "ecca3243-18b8-4fdd-adeb-984f12c44857",
   "metadata": {},
   "source": [
    "**Short Hand If statement**"
   ]
  },
  {
   "cell_type": "code",
   "execution_count": 18,
   "id": "45fc9a5a-ffc7-45de-8feb-77c1fdf708f0",
   "metadata": {},
   "outputs": [
    {
     "name": "stdout",
     "output_type": "stream",
     "text": [
      "Good\n"
     ]
    }
   ],
   "source": [
    "marks = 80 \n",
    "if(marks>50):print(\"Good\")"
   ]
  },
  {
   "cell_type": "markdown",
   "id": "f823989f-2973-4332-adff-a1063b3bb426",
   "metadata": {},
   "source": [
    "**Short Hand if else statement**"
   ]
  },
  {
   "cell_type": "code",
   "execution_count": 27,
   "id": "fc459327-217f-4e52-8d2f-55e294580e2f",
   "metadata": {},
   "outputs": [
    {
     "name": "stdout",
     "output_type": "stream",
     "text": [
      "Bad Marks\n"
     ]
    }
   ],
   "source": [
    "marks = 80\n",
    "print(\"Good marks\")if (marks>80) else print(\"Bad Marks\")"
   ]
  },
  {
   "cell_type": "markdown",
   "id": "624b6365-2ec9-4edb-af89-191595e914ec",
   "metadata": {},
   "source": [
    "Program 1 : Write a program to check if number is positive."
   ]
  },
  {
   "cell_type": "code",
   "execution_count": 32,
   "id": "eb00916d-0878-460e-8094-c7968e42db07",
   "metadata": {},
   "outputs": [
    {
     "name": "stdin",
     "output_type": "stream",
     "text": [
      "Enter Marks 10\n"
     ]
    },
    {
     "name": "stdout",
     "output_type": "stream",
     "text": [
      "Positive\n"
     ]
    }
   ],
   "source": [
    "number = int(input(\"Enter Marks\"))\n",
    "if(number>=0):\n",
    "    print(\"Positive\")\n",
    "else:\n",
    "    print(\"Negative\")"
   ]
  },
  {
   "cell_type": "markdown",
   "id": "cdd15c45-e68c-4d95-a825-68833cff89d4",
   "metadata": {},
   "source": [
    "Program 2 : Write a program to check whether the number is odd or even "
   ]
  },
  {
   "cell_type": "code",
   "execution_count": 37,
   "id": "1d262c2c-a550-4cb1-b3bf-c60ad4afcdee",
   "metadata": {},
   "outputs": [
    {
     "name": "stdin",
     "output_type": "stream",
     "text": [
      "Enter number 94\n"
     ]
    },
    {
     "name": "stdout",
     "output_type": "stream",
     "text": [
      "Even number\n"
     ]
    }
   ],
   "source": [
    "number = int(input(\"Enter number\"))\n",
    "if(number%2==0):\n",
    "    print(\"Even number\")\n",
    "else:\n",
    "    print(\"Odd number\")"
   ]
  },
  {
   "cell_type": "markdown",
   "id": "88a4873c-9061-4c61-a40f-b2bfc405d881",
   "metadata": {},
   "source": [
    "Program 3 : Write a program to create Area Calculator "
   ]
  },
  {
   "cell_type": "code",
   "execution_count": 46,
   "id": "6d0095dd-d3b0-4920-a029-55bbfad2aa3d",
   "metadata": {},
   "outputs": [
    {
     "name": "stdin",
     "output_type": "stream",
     "text": [
      "Enter Shape rectangle\n",
      "Enter length of rectangle 12\n",
      "Enter breadth of rectangle 10\n"
     ]
    },
    {
     "name": "stdout",
     "output_type": "stream",
     "text": [
      "Area 120\n"
     ]
    }
   ],
   "source": [
    "shape = input(\"Enter Shape\")\n",
    "if (shape == \"square\"):\n",
    "    side = int(input(\"Enter side of a square\"))\n",
    "    print(\"Area\",side*side)\n",
    "elif (shape == \"rectangle\"):\n",
    "    length = int(input(\"Enter length of rectangle\"))\n",
    "    breadth = int(input(\"Enter breadth of rectangle\"))\n",
    "    print(\"Area\",length*breadth)"
   ]
  },
  {
   "cell_type": "markdown",
   "id": "8f6b0b7f-bdb5-42ba-9efe-a3ae3afb0fdd",
   "metadata": {},
   "source": [
    "Program 4 : Write a program to check whether a letter is passed is vowel or not"
   ]
  },
  {
   "cell_type": "code",
   "execution_count": 53,
   "id": "b587a053-c12b-4f9f-aaa4-962d536afb81",
   "metadata": {},
   "outputs": [
    {
     "name": "stdin",
     "output_type": "stream",
     "text": [
      "Enter letter e\n"
     ]
    },
    {
     "name": "stdout",
     "output_type": "stream",
     "text": [
      "Vowel\n"
     ]
    }
   ],
   "source": [
    "letter = input(\"Enter letter\")\n",
    "if(letter == \"a\" or \"e\" or \"i\" or \"o\" or \"u\"):\n",
    "    print(\"Vowel\")\n",
    "else:\n",
    "    print(\"not a vowel\")"
   ]
  },
  {
   "cell_type": "markdown",
   "id": "9b62f788-6a9f-4afa-aa0d-bdab15c95e5b",
   "metadata": {},
   "source": [
    "Program 5 : Write a program to check whether a digit is single digit or double digit or triple didgit"
   ]
  },
  {
   "cell_type": "code",
   "execution_count": null,
   "id": "f177c652-36d7-44c0-9968-13ed8a8a0c10",
   "metadata": {},
   "outputs": [],
   "source": [
    "number = int(input(\"Enter number\"))\n",
    "if(number<=9 and number>=0):\n",
    "    print(\"Single digit Number\")\n",
    "elif(number>=11 and number<=99):\n",
    "    print(\"Double digit Number"
   ]
  }
 ],
 "metadata": {
  "kernelspec": {
   "display_name": "Python [conda env:base] *",
   "language": "python",
   "name": "conda-base-py"
  },
  "language_info": {
   "codemirror_mode": {
    "name": "ipython",
    "version": 3
   },
   "file_extension": ".py",
   "mimetype": "text/x-python",
   "name": "python",
   "nbconvert_exporter": "python",
   "pygments_lexer": "ipython3",
   "version": "3.12.7"
  }
 },
 "nbformat": 4,
 "nbformat_minor": 5
}
