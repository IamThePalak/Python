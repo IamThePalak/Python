{
  "nbformat": 4,
  "nbformat_minor": 0,
  "metadata": {
    "colab": {
      "provenance": [],
      "authorship_tag": "ABX9TyPSX+sM3Q2h/fmj1aUefg+E",
      "include_colab_link": true
    },
    "kernelspec": {
      "name": "python3",
      "display_name": "Python 3"
    },
    "language_info": {
      "name": "python"
    }
  },
  "cells": [
    {
      "cell_type": "markdown",
      "metadata": {
        "id": "view-in-github",
        "colab_type": "text"
      },
      "source": [
        "<a href=\"https://colab.research.google.com/github/IamThePalak/Python/blob/main/NumPy.ipynb\" target=\"_parent\"><img src=\"https://colab.research.google.com/assets/colab-badge.svg\" alt=\"Open In Colab\"/></a>"
      ]
    },
    {
      "cell_type": "markdown",
      "source": [
        "NumPy ---- Numerical Python\n",
        "Advantages of NumPy Array\n",
        "1. allow several mathematical operation\n",
        "2. allow faster operation"
      ],
      "metadata": {
        "id": "do7vvSfjBuCw"
      }
    },
    {
      "cell_type": "code",
      "source": [
        "import numpy as np"
      ],
      "metadata": {
        "id": "62kN-RHdCApp"
      },
      "execution_count": 29,
      "outputs": []
    },
    {
      "cell_type": "code",
      "source": [],
      "metadata": {
        "id": "NR4IXnLNCRfH"
      },
      "execution_count": 18,
      "outputs": []
    },
    {
      "cell_type": "code",
      "source": [
        "np_array=np.array([1,2,3,4,5])\n",
        "print(np_array)\n",
        "type(np_array)"
      ],
      "metadata": {
        "colab": {
          "base_uri": "https://localhost:8080/"
        },
        "id": "1sZJZ7KaCFVc",
        "outputId": "476f6674-d8c3-46cc-cb85-3f32bc8b9b3a"
      },
      "execution_count": 19,
      "outputs": [
        {
          "output_type": "stream",
          "name": "stdout",
          "text": [
            "[1 2 3 4 5]\n"
          ]
        },
        {
          "output_type": "execute_result",
          "data": {
            "text/plain": [
              "numpy.ndarray"
            ]
          },
          "metadata": {},
          "execution_count": 19
        }
      ]
    },
    {
      "cell_type": "markdown",
      "source": [
        "1 dimension numpy array"
      ],
      "metadata": {
        "id": "ZOzzIfXnFNEE"
      }
    },
    {
      "cell_type": "code",
      "source": [
        "a = np.array([1,2,3,4,5])\n",
        "print(a)\n",
        "a.shape"
      ],
      "metadata": {
        "colab": {
          "base_uri": "https://localhost:8080/"
        },
        "id": "1oGApr5PFRSW",
        "outputId": "68b51f3d-4dec-4901-a237-329634ef1a5a"
      },
      "execution_count": 20,
      "outputs": [
        {
          "output_type": "stream",
          "name": "stdout",
          "text": [
            "[1 2 3 4 5]\n"
          ]
        },
        {
          "output_type": "execute_result",
          "data": {
            "text/plain": [
              "(5,)"
            ]
          },
          "metadata": {},
          "execution_count": 20
        }
      ]
    },
    {
      "cell_type": "markdown",
      "source": [
        "2 dimension NumPy array"
      ],
      "metadata": {
        "id": "jKD1TNxlFZSl"
      }
    },
    {
      "cell_type": "code",
      "source": [
        "b = np.array([(1,2,3,4,5),(6,7,8,9,10)])\n",
        "print(b)\n",
        "b.shape"
      ],
      "metadata": {
        "colab": {
          "base_uri": "https://localhost:8080/"
        },
        "id": "rANOQNQmFXKb",
        "outputId": "bef3b8fc-cafa-4eb3-bef7-d6d85161763b"
      },
      "execution_count": 21,
      "outputs": [
        {
          "output_type": "stream",
          "name": "stdout",
          "text": [
            "[[ 1  2  3  4  5]\n",
            " [ 6  7  8  9 10]]\n"
          ]
        },
        {
          "output_type": "execute_result",
          "data": {
            "text/plain": [
              "(2, 5)"
            ]
          },
          "metadata": {},
          "execution_count": 21
        }
      ]
    },
    {
      "cell_type": "markdown",
      "source": [
        "Array of Particular value"
      ],
      "metadata": {
        "id": "pTye0iYSGNLY"
      }
    },
    {
      "cell_type": "code",
      "source": [
        "c=np.full((4,3),5)\n",
        "print(c)"
      ],
      "metadata": {
        "colab": {
          "base_uri": "https://localhost:8080/"
        },
        "id": "KLeSuSopFu-o",
        "outputId": "7746ed6b-371f-4872-e1ab-47c96f91b836"
      },
      "execution_count": 22,
      "outputs": [
        {
          "output_type": "stream",
          "name": "stdout",
          "text": [
            "[[5 5 5]\n",
            " [5 5 5]\n",
            " [5 5 5]\n",
            " [5 5 5]]\n"
          ]
        }
      ]
    },
    {
      "cell_type": "markdown",
      "source": [
        "Create an identity matrix"
      ],
      "metadata": {
        "id": "6yM70tRuG3Hi"
      }
    },
    {
      "cell_type": "code",
      "source": [
        "d = np.eye(3)\n",
        "print(d)"
      ],
      "metadata": {
        "colab": {
          "base_uri": "https://localhost:8080/"
        },
        "id": "8oazy-cBGYkO",
        "outputId": "c60539e9-a115-4a7c-f355-2f513b9672be"
      },
      "execution_count": 23,
      "outputs": [
        {
          "output_type": "stream",
          "name": "stdout",
          "text": [
            "[[1. 0. 0.]\n",
            " [0. 1. 0.]\n",
            " [0. 0. 1.]]\n"
          ]
        }
      ]
    },
    {
      "cell_type": "markdown",
      "source": [
        "Create a numpy array with random values"
      ],
      "metadata": {
        "id": "zfWU5R6gH7E_"
      }
    },
    {
      "cell_type": "code",
      "source": [
        "b=np.random.random((2,3))\n",
        "print(b)"
      ],
      "metadata": {
        "colab": {
          "base_uri": "https://localhost:8080/"
        },
        "id": "W5eYBsN0HYyD",
        "outputId": "f2c2a0f2-d17c-4278-87e4-3b0e6975ac28"
      },
      "execution_count": 24,
      "outputs": [
        {
          "output_type": "stream",
          "name": "stdout",
          "text": [
            "[[0.64086254 0.43451777 0.27927345]\n",
            " [0.07643051 0.48763012 0.07503567]]\n"
          ]
        }
      ]
    },
    {
      "cell_type": "markdown",
      "source": [
        "Create a numpy array with random integers"
      ],
      "metadata": {
        "id": "wDMmRCCKIQB4"
      }
    },
    {
      "cell_type": "code",
      "source": [
        "c=np.random.randint(20,30,(2,3))\n",
        "print(c)"
      ],
      "metadata": {
        "colab": {
          "base_uri": "https://localhost:8080/"
        },
        "id": "t9EyjeywIEw3",
        "outputId": "306949d8-a56f-490b-fe4c-fd788289dcb1"
      },
      "execution_count": 25,
      "outputs": [
        {
          "output_type": "stream",
          "name": "stdout",
          "text": [
            "[[29 27 24]\n",
            " [25 23 20]]\n"
          ]
        }
      ]
    },
    {
      "cell_type": "markdown",
      "source": [
        "Array of evenly spaced values ---- specify no.of values required"
      ],
      "metadata": {
        "id": "hEFemXcYN0ql"
      }
    },
    {
      "cell_type": "code",
      "source": [
        "d=np.linspace(10,40,4)\n",
        "print(d)"
      ],
      "metadata": {
        "colab": {
          "base_uri": "https://localhost:8080/"
        },
        "id": "kYMoqO3uIOC9",
        "outputId": "3eb72e0b-d865-439b-c13a-a9b11518384d"
      },
      "execution_count": 33,
      "outputs": [
        {
          "output_type": "stream",
          "name": "stdout",
          "text": [
            "[10. 20. 30. 40.]\n"
          ]
        }
      ]
    },
    {
      "cell_type": "markdown",
      "source": [
        "Array of evenly spaced values --- specify step required"
      ],
      "metadata": {
        "id": "uT_h2Vu3OrT8"
      }
    },
    {
      "cell_type": "code",
      "source": [
        " e = np.arange(10,40,4)\n",
        " print(e)"
      ],
      "metadata": {
        "colab": {
          "base_uri": "https://localhost:8080/"
        },
        "id": "FAgiM5qNOopy",
        "outputId": "ee043005-f5dc-4a45-9712-97cfdf3f4d01"
      },
      "execution_count": 32,
      "outputs": [
        {
          "output_type": "stream",
          "name": "stdout",
          "text": [
            "[10 14 18 22 26 30 34 38]\n"
          ]
        }
      ]
    },
    {
      "cell_type": "markdown",
      "source": [
        "Analysing NumPy Array"
      ],
      "metadata": {
        "id": "eLQ-jgo3U3gA"
      }
    },
    {
      "cell_type": "code",
      "source": [
        "d = np.random.randint(10,80,(4,5))\n",
        "print(d)"
      ],
      "metadata": {
        "colab": {
          "base_uri": "https://localhost:8080/"
        },
        "id": "44boNJk6OwgK",
        "outputId": "3f328a68-181c-4064-d16d-95caa4e3606d"
      },
      "execution_count": 35,
      "outputs": [
        {
          "output_type": "stream",
          "name": "stdout",
          "text": [
            "[[40 24 48 24 31]\n",
            " [50 68 56 25 30]\n",
            " [11 38 58 78 37]\n",
            " [53 68 36 22 53]]\n"
          ]
        }
      ]
    },
    {
      "cell_type": "markdown",
      "source": [
        "Array Dimension"
      ],
      "metadata": {
        "id": "oHkI5YIPVhl4"
      }
    },
    {
      "cell_type": "code",
      "source": [
        "print(d.shape)\n"
      ],
      "metadata": {
        "colab": {
          "base_uri": "https://localhost:8080/"
        },
        "id": "4DILHOV5VMJi",
        "outputId": "a96a0061-903c-41e5-8966-811248b729eb"
      },
      "execution_count": 37,
      "outputs": [
        {
          "output_type": "stream",
          "name": "stdout",
          "text": [
            "(4, 5)\n"
          ]
        }
      ]
    },
    {
      "cell_type": "markdown",
      "source": [
        "Number of Dimension"
      ],
      "metadata": {
        "id": "8QrouDY0Vpml"
      }
    },
    {
      "cell_type": "code",
      "source": [
        "print(d.ndim)"
      ],
      "metadata": {
        "colab": {
          "base_uri": "https://localhost:8080/"
        },
        "id": "SnqxrcqYVfi4",
        "outputId": "b4209678-0100-411f-ad8d-4b74406d33f2"
      },
      "execution_count": 38,
      "outputs": [
        {
          "output_type": "stream",
          "name": "stdout",
          "text": [
            "2\n"
          ]
        }
      ]
    },
    {
      "cell_type": "markdown",
      "source": [
        "Number of elements in an array"
      ],
      "metadata": {
        "id": "Nfowhp8-V79i"
      }
    },
    {
      "cell_type": "code",
      "source": [
        "print(d.size)"
      ],
      "metadata": {
        "colab": {
          "base_uri": "https://localhost:8080/"
        },
        "id": "WEjd5opMV0eU",
        "outputId": "152bd2f5-d982-4fc8-8927-b0d3116f7365"
      },
      "execution_count": 40,
      "outputs": [
        {
          "output_type": "stream",
          "name": "stdout",
          "text": [
            "20\n"
          ]
        }
      ]
    },
    {
      "cell_type": "markdown",
      "source": [
        "Checking the datatype of values in the array"
      ],
      "metadata": {
        "id": "waRlLPrNWNIC"
      }
    },
    {
      "cell_type": "code",
      "source": [
        "print(d.dtype)"
      ],
      "metadata": {
        "colab": {
          "base_uri": "https://localhost:8080/"
        },
        "id": "ndRXer1cV5ry",
        "outputId": "aab927ca-7b48-4de0-c545-a00fb9933a73"
      },
      "execution_count": 41,
      "outputs": [
        {
          "output_type": "stream",
          "name": "stdout",
          "text": [
            "int64\n"
          ]
        }
      ]
    },
    {
      "cell_type": "markdown",
      "source": [
        "Mathematical operations on NumpyArray"
      ],
      "metadata": {
        "id": "0KEPGLgEYDzK"
      }
    },
    {
      "cell_type": "code",
      "source": [
        "list1=[1,3,4,5]\n",
        "list2=[6,7,8,9]\n",
        "print(list1+list2)"
      ],
      "metadata": {
        "colab": {
          "base_uri": "https://localhost:8080/"
        },
        "id": "TPm6uazGWWWl",
        "outputId": "9c365570-fe11-4723-aaab-d0ee8c05126d"
      },
      "execution_count": 42,
      "outputs": [
        {
          "output_type": "stream",
          "name": "stdout",
          "text": [
            "[1, 3, 4, 5, 6, 7, 8, 9]\n"
          ]
        }
      ]
    },
    {
      "cell_type": "code",
      "source": [
        "a = np.random.randint(0,10,(3,3))\n",
        "print(a)"
      ],
      "metadata": {
        "colab": {
          "base_uri": "https://localhost:8080/"
        },
        "id": "Pplo2ogLYkTi",
        "outputId": "eb23af53-5146-47d4-bf60-3b8b9a0d125d"
      },
      "execution_count": 44,
      "outputs": [
        {
          "output_type": "stream",
          "name": "stdout",
          "text": [
            "[[0 1 2]\n",
            " [4 0 9]\n",
            " [8 9 9]]\n"
          ]
        }
      ]
    },
    {
      "cell_type": "code",
      "source": [
        "b = np.random.randint(10,20,(3,3))\n",
        "print(b)"
      ],
      "metadata": {
        "colab": {
          "base_uri": "https://localhost:8080/"
        },
        "id": "9oHJbiNSZGdC",
        "outputId": "3cb9d204-ce1e-4677-c154-31d302fcfa58"
      },
      "execution_count": 45,
      "outputs": [
        {
          "output_type": "stream",
          "name": "stdout",
          "text": [
            "[[15 13 15]\n",
            " [16 17 14]\n",
            " [10 10 10]]\n"
          ]
        }
      ]
    },
    {
      "cell_type": "code",
      "source": [
        "print(a+b)"
      ],
      "metadata": {
        "colab": {
          "base_uri": "https://localhost:8080/"
        },
        "id": "Hx3rrGEUZYYe",
        "outputId": "8539d673-d0fd-480b-943a-9836380f5f78"
      },
      "execution_count": 46,
      "outputs": [
        {
          "output_type": "stream",
          "name": "stdout",
          "text": [
            "[[15 14 17]\n",
            " [20 17 23]\n",
            " [18 19 19]]\n"
          ]
        }
      ]
    },
    {
      "cell_type": "code",
      "source": [
        "print(a-b)"
      ],
      "metadata": {
        "colab": {
          "base_uri": "https://localhost:8080/"
        },
        "id": "d2wl0hoeZbCD",
        "outputId": "cd05a446-e868-4e9c-ba3a-058573a467c8"
      },
      "execution_count": 47,
      "outputs": [
        {
          "output_type": "stream",
          "name": "stdout",
          "text": [
            "[[-15 -12 -13]\n",
            " [-12 -17  -5]\n",
            " [ -2  -1  -1]]\n"
          ]
        }
      ]
    },
    {
      "cell_type": "code",
      "source": [
        "print(a*b)"
      ],
      "metadata": {
        "colab": {
          "base_uri": "https://localhost:8080/"
        },
        "id": "QxnNHTMxZfcM",
        "outputId": "b9355e2e-f1bf-4a80-f65c-b9638d14a7a7"
      },
      "execution_count": 48,
      "outputs": [
        {
          "output_type": "stream",
          "name": "stdout",
          "text": [
            "[[  0  13  30]\n",
            " [ 64   0 126]\n",
            " [ 80  90  90]]\n"
          ]
        }
      ]
    },
    {
      "cell_type": "code",
      "source": [
        "print(a/b)"
      ],
      "metadata": {
        "colab": {
          "base_uri": "https://localhost:8080/"
        },
        "id": "lcZu9O4eZhyP",
        "outputId": "c169b393-080c-425c-ce7e-2f9720ab0451"
      },
      "execution_count": 49,
      "outputs": [
        {
          "output_type": "stream",
          "name": "stdout",
          "text": [
            "[[0.         0.07692308 0.13333333]\n",
            " [0.25       0.         0.64285714]\n",
            " [0.8        0.9        0.9       ]]\n"
          ]
        }
      ]
    },
    {
      "cell_type": "code",
      "source": [
        "print(np.add(a,b))"
      ],
      "metadata": {
        "colab": {
          "base_uri": "https://localhost:8080/"
        },
        "id": "2lAcfSPGZl5-",
        "outputId": "d076ec74-06db-4091-8445-e637c8b015ca"
      },
      "execution_count": 50,
      "outputs": [
        {
          "output_type": "stream",
          "name": "stdout",
          "text": [
            "[[15 14 17]\n",
            " [20 17 23]\n",
            " [18 19 19]]\n"
          ]
        }
      ]
    },
    {
      "cell_type": "markdown",
      "source": [
        "Array Manipulation"
      ],
      "metadata": {
        "id": "L9Ig3zXtctED"
      }
    },
    {
      "cell_type": "code",
      "source": [
        "array=np.random.randint(0,10,(2,3))\n",
        "print(array)\n",
        "print(array.shape)"
      ],
      "metadata": {
        "colab": {
          "base_uri": "https://localhost:8080/"
        },
        "id": "ZqEMVJAwZ1gz",
        "outputId": "79e65b30-e0cd-4fdb-f895-5045bf642979"
      },
      "execution_count": 51,
      "outputs": [
        {
          "output_type": "stream",
          "name": "stdout",
          "text": [
            "[[8 8 6]\n",
            " [6 1 7]]\n",
            "(2, 3)\n"
          ]
        }
      ]
    },
    {
      "cell_type": "markdown",
      "source": [
        "Transpose of an array"
      ],
      "metadata": {
        "id": "f42OXMUvc7pZ"
      }
    },
    {
      "cell_type": "code",
      "source": [
        "trans=np.transpose(array)\n",
        "print(trans)\n",
        "print(trans.shape)"
      ],
      "metadata": {
        "colab": {
          "base_uri": "https://localhost:8080/"
        },
        "id": "xLyJnvXic59y",
        "outputId": "e75cc994-6b62-472f-accb-19ec575a5558"
      },
      "execution_count": 52,
      "outputs": [
        {
          "output_type": "stream",
          "name": "stdout",
          "text": [
            "[[8 6]\n",
            " [8 1]\n",
            " [6 7]]\n",
            "(3, 2)\n"
          ]
        }
      ]
    },
    {
      "cell_type": "markdown",
      "source": [
        "Reshape of an Array"
      ],
      "metadata": {
        "id": "1VWd6S8FdMci"
      }
    },
    {
      "cell_type": "code",
      "source": [
        "a = np.random.randint(0,10,(2,3))\n",
        "print(a)\n",
        "print(a.shape)"
      ],
      "metadata": {
        "colab": {
          "base_uri": "https://localhost:8080/"
        },
        "id": "NeH_2FmbdJ2_",
        "outputId": "0f8946d3-7735-42d7-de1d-bab5a4b820d8"
      },
      "execution_count": 53,
      "outputs": [
        {
          "output_type": "stream",
          "name": "stdout",
          "text": [
            "[[7 6 2]\n",
            " [1 4 5]]\n",
            "(2, 3)\n"
          ]
        }
      ]
    },
    {
      "cell_type": "code",
      "source": [
        "b = a.reshape(3,2)\n",
        "print(b)\n",
        "print(b.shape)"
      ],
      "metadata": {
        "colab": {
          "base_uri": "https://localhost:8080/"
        },
        "id": "sLO8VVmkdc3M",
        "outputId": "c5e6736b-a6a2-49df-a850-acfab2669614"
      },
      "execution_count": 54,
      "outputs": [
        {
          "output_type": "stream",
          "name": "stdout",
          "text": [
            "[[7 6]\n",
            " [2 1]\n",
            " [4 5]]\n",
            "(3, 2)\n"
          ]
        }
      ]
    },
    {
      "cell_type": "code",
      "source": [],
      "metadata": {
        "id": "RhQeQaAbdnIq"
      },
      "execution_count": null,
      "outputs": []
    }
  ]
}